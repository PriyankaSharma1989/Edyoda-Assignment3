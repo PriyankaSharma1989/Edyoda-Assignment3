{
 "cells": [
  {
   "cell_type": "code",
   "execution_count": 5,
   "id": "dd9d68a0",
   "metadata": {},
   "outputs": [
    {
     "name": "stdout",
     "output_type": "stream",
     "text": [
      "enter any string:The quick Brow Fox\n",
      "entered string is: The quick Brow Fox\n",
      " No. of Upper case Characters : 1\n",
      "No. of Lower case Characters : 1\n",
      " No. of Upper case Characters : 1\n",
      "No. of Lower case Characters : 2\n",
      " No. of Upper case Characters : 1\n",
      "No. of Lower case Characters : 3\n",
      " No. of Upper case Characters : 1\n",
      "No. of Lower case Characters : 4\n",
      " No. of Upper case Characters : 1\n",
      "No. of Lower case Characters : 5\n",
      " No. of Upper case Characters : 1\n",
      "No. of Lower case Characters : 6\n",
      " No. of Upper case Characters : 1\n",
      "No. of Lower case Characters : 7\n",
      " No. of Upper case Characters : 2\n",
      "No. of Lower case Characters : 8\n",
      " No. of Upper case Characters : 2\n",
      "No. of Lower case Characters : 9\n",
      " No. of Upper case Characters : 2\n",
      "No. of Lower case Characters : 10\n",
      " No. of Upper case Characters : 3\n",
      "No. of Lower case Characters : 11\n",
      " No. of Upper case Characters : 3\n",
      "No. of Lower case Characters : 12\n"
     ]
    }
   ],
   "source": [
    "# Write a Python function that accepts a string and calculate the number of upper case letters and lower case letters.\n",
    "\n",
    "#Sample String : 'The quick Brow Fox'\n",
    "\n",
    "#Expected Output :\n",
    "\n",
    "# No. of Upper case characters : 3\n",
    "\n",
    "# No. of Lower case Characters : 12\n",
    "\n",
    "def fun(string):\n",
    "    print(\"entered string is:\", string)\n",
    "    n1=0\n",
    "    n2=0\n",
    "    for i in string:\n",
    "        if i.isupper():\n",
    "            n1=n1+1\n",
    "        elif i.islower():\n",
    "            n2=n2+1\n",
    "            print(\" No. of Upper case Characters :\",n1)\n",
    "            print(\"No. of Lower case Characters :\",n2)\n",
    "s=str(input(\"enter any string:\"))\n",
    "fun(s)"
   ]
  },
  {
   "cell_type": "code",
   "execution_count": null,
   "id": "c4cce0aa",
   "metadata": {},
   "outputs": [],
   "source": []
  }
 ],
 "metadata": {
  "kernelspec": {
   "display_name": "Python 3 (ipykernel)",
   "language": "python",
   "name": "python3"
  },
  "language_info": {
   "codemirror_mode": {
    "name": "ipython",
    "version": 3
   },
   "file_extension": ".py",
   "mimetype": "text/x-python",
   "name": "python",
   "nbconvert_exporter": "python",
   "pygments_lexer": "ipython3",
   "version": "3.9.12"
  }
 },
 "nbformat": 4,
 "nbformat_minor": 5
}
