{
 "cells": [
  {
   "cell_type": "code",
   "execution_count": 1,
   "id": "2ecbe14b",
   "metadata": {},
   "outputs": [
    {
     "name": "stdout",
     "output_type": "stream",
     "text": [
      "enter a string:1234abcd\n",
      "entered string : 1234abcd\n",
      "reversed string is : 1\n",
      "reversed string is : 21\n",
      "reversed string is : 321\n",
      "reversed string is : 4321\n",
      "reversed string is : a4321\n",
      "reversed string is : ba4321\n",
      "reversed string is : cba4321\n",
      "reversed string is : dcba4321\n"
     ]
    }
   ],
   "source": [
    "# Write a Python program to reverse a string.\n",
    "\n",
    "#Sample String : \"1234abcd\"\n",
    "\n",
    "#Expected Output : \"dcba4321\"\n",
    "\n",
    "def reverse(string):\n",
    "    reversed_string=\"\"\n",
    "    for i in string:\n",
    "        reversed_string=i+reversed_string\n",
    "        print(\"reversed string is :\", reversed_string)\n",
    "        \n",
    "        \n",
    "string=input(\"enter a string:\")\n",
    "print(\"entered string :\", string)\n",
    "reverse(string)"
   ]
  },
  {
   "cell_type": "code",
   "execution_count": null,
   "id": "2f94be0d",
   "metadata": {},
   "outputs": [],
   "source": []
  }
 ],
 "metadata": {
  "kernelspec": {
   "display_name": "Python 3 (ipykernel)",
   "language": "python",
   "name": "python3"
  },
  "language_info": {
   "codemirror_mode": {
    "name": "ipython",
    "version": 3
   },
   "file_extension": ".py",
   "mimetype": "text/x-python",
   "name": "python",
   "nbconvert_exporter": "python",
   "pygments_lexer": "ipython3",
   "version": "3.9.12"
  }
 },
 "nbformat": 4,
 "nbformat_minor": 5
}
