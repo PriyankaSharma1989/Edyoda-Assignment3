{
 "cells": [
  {
   "cell_type": "code",
   "execution_count": 29,
   "id": "17ee778a",
   "metadata": {},
   "outputs": [
    {
     "name": "stdout",
     "output_type": "stream",
     "text": [
      "8\n"
     ]
    }
   ],
   "source": [
    "# Write a Python function to sum all the numbers in a list.\n",
    "\n",
    "#Sample List : (8, 2, 3, 0, 7)\n",
    "    \n",
    "    #Expected Output : 20\n",
    "\n",
    "def sum(numbers):\n",
    "    total=0\n",
    "    for i in numbers:\n",
    "        total+=i\n",
    "        return total\n",
    "print(sum((8,2,3,0,7)))"
   ]
  },
  {
   "cell_type": "code",
   "execution_count": null,
   "id": "baa1f730",
   "metadata": {},
   "outputs": [],
   "source": []
  },
  {
   "cell_type": "code",
   "execution_count": null,
   "id": "a2496858",
   "metadata": {},
   "outputs": [],
   "source": []
  }
 ],
 "metadata": {
  "kernelspec": {
   "display_name": "Python 3 (ipykernel)",
   "language": "python",
   "name": "python3"
  },
  "language_info": {
   "codemirror_mode": {
    "name": "ipython",
    "version": 3
   },
   "file_extension": ".py",
   "mimetype": "text/x-python",
   "name": "python",
   "nbconvert_exporter": "python",
   "pygments_lexer": "ipython3",
   "version": "3.9.12"
  }
 },
 "nbformat": 4,
 "nbformat_minor": 5
}
